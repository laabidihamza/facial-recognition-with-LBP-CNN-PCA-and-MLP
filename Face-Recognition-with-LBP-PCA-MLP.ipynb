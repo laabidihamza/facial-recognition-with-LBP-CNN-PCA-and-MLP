{
 "cells": [
  {
   "cell_type": "code",
   "execution_count": null,
   "id": "7018d948",
   "metadata": {},
   "outputs": [],
   "source": [
    "from google.colab import drive\n",
    "drive.mount('/content/drive')"
   ]
  },
  {
   "cell_type": "code",
   "execution_count": null,
   "id": "9a1ce46c",
   "metadata": {},
   "outputs": [],
   "source": [
    "dataset_path = \"/content/drive/MyDrive/Datasets/originalimages\""
   ]
  },
  {
   "cell_type": "code",
   "execution_count": null,
   "id": "456a919c",
   "metadata": {},
   "outputs": [],
   "source": [
    "import os\n",
    "import cv2\n",
    "import numpy as np\n",
    "from sklearn.model_selection import train_test_split\n",
    "from sklearn.preprocessing import LabelEncoder\n",
    "from tensorflow.keras.utils import to_categorical\n",
    "\n",
    "def load_images_and_labels(folder, img_size=(100, 100)):\n",
    "    X, y = [], []\n",
    "    for filename in os.listdir(folder):\n",
    "        if filename.endswith(\".jpg\"):\n",
    "            label = filename.split(\"-\")[0]\n",
    "            path = os.path.join(folder, filename)\n",
    "            img = cv2.imread(path, cv2.IMREAD_GRAYSCALE)\n",
    "            if img is not None:\n",
    "                img = cv2.resize(img, img_size)\n",
    "                X.append(img)\n",
    "                y.append(label)\n",
    "    return np.array(X), np.array(y)\n",
    "\n",
    "\n",
    "X, y = load_images_and_labels(dataset_path)\n"
   ]
  },
  {
   "cell_type": "code",
   "execution_count": null,
   "id": "c2416600",
   "metadata": {},
   "outputs": [],
   "source": [
    "from skimage.feature import local_binary_pattern\n",
    "\n",
    "def extract_lbp_features(images, P=8, R=1):\n",
    "    lbp_features = []\n",
    "    for img in images:\n",
    "        lbp = local_binary_pattern(img, P, R, method='uniform')\n",
    "        (hist, _) = np.histogram(lbp.ravel(), bins=np.arange(0, P + 3), range=(0, P + 2))\n",
    "        hist = hist.astype(\"float\")\n",
    "        hist /= (hist.sum() + 1e-7)  # normalize\n",
    "        lbp_features.append(hist)\n",
    "    return np.array(lbp_features)\n",
    "\n",
    "X_lbp = extract_lbp_features(X)\n"
   ]
  },
  {
   "cell_type": "code",
   "execution_count": null,
   "id": "d77e8acd",
   "metadata": {},
   "outputs": [],
   "source": [
    "le = LabelEncoder()\n",
    "y_encoded = le.fit_transform(y)\n",
    "y_cat = to_categorical(y_encoded)\n",
    "\n",
    "X_train, X_test, y_train, y_test = train_test_split(\n",
    "    X_lbp, y_cat, test_size=0.2, stratify=y_cat, random_state=42\n",
    ")\n"
   ]
  },
  {
   "cell_type": "code",
   "execution_count": null,
   "id": "0bce11a8",
   "metadata": {},
   "outputs": [],
   "source": [
    "from sklearn.decomposition import PCA\n",
    "\n",
    "pca = PCA(n_components=50)  # Adjust as needed\n",
    "X_train_pca = pca.fit_transform(X_train)\n",
    "X_test_pca = pca.transform(X_test)\n"
   ]
  },
  {
   "cell_type": "code",
   "execution_count": null,
   "id": "3524bc4e",
   "metadata": {},
   "outputs": [],
   "source": [
    "from tensorflow.keras.models import Sequential\n",
    "from tensorflow.keras.layers import Dense, Dropout\n",
    "\n",
    "mlp_model = Sequential([\n",
    "    Dense(128, activation='relu', input_shape=(X_train_pca.shape[1],)),\n",
    "    Dropout(0.3),\n",
    "    Dense(64, activation='relu'),\n",
    "    Dropout(0.3),\n",
    "    Dense(y_cat.shape[1], activation='softmax')\n",
    "])\n",
    "\n",
    "mlp_model.compile(optimizer='adam', loss='categorical_crossentropy', metrics=['accuracy'])\n",
    "\n",
    "history = mlp_model.fit(\n",
    "    X_train_pca, y_train,\n",
    "    validation_data=(X_test_pca, y_test),\n",
    "    epochs=25,\n",
    "    batch_size=32\n",
    ")\n"
   ]
  },
  {
   "cell_type": "code",
   "execution_count": null,
   "id": "b83419b0",
   "metadata": {},
   "outputs": [],
   "source": [
    "import matplotlib.pyplot as plt\n",
    "\n",
    "plt.figure(figsize=(12, 5))\n",
    "\n",
    "# Loss\n",
    "plt.subplot(1, 2, 1)\n",
    "plt.plot(history.history['loss'], label=\"Training Loss\")\n",
    "plt.plot(history.history['val_loss'], label=\"Validation Loss\")\n",
    "plt.title(\"Loss Curve\")\n",
    "plt.xlabel(\"Epochs\")\n",
    "plt.ylabel(\"Loss\")\n",
    "plt.legend()\n",
    "\n",
    "# Accuracy\n",
    "plt.subplot(1, 2, 2)\n",
    "plt.plot(history.history['accuracy'], label=\"Training Accuracy\")\n",
    "plt.plot(history.history['val_accuracy'], label=\"Validation Accuracy\")\n",
    "plt.title(\"Accuracy Curve\")\n",
    "plt.xlabel(\"Epochs\")\n",
    "plt.ylabel(\"Accuracy\")\n",
    "plt.legend()\n",
    "\n",
    "plt.tight_layout()\n",
    "plt.show()\n"
   ]
  },
  {
   "cell_type": "code",
   "execution_count": null,
   "id": "fb2f0088",
   "metadata": {},
   "outputs": [],
   "source": [
    "def predict_face(img_path):\n",
    "    img = cv2.imread(img_path, cv2.IMREAD_GRAYSCALE)\n",
    "    if img is None:\n",
    "        print(\"❌ Image not found.\")\n",
    "        return\n",
    "    img = cv2.resize(img, (100, 100))\n",
    "    lbp = local_binary_pattern(img, P=8, R=1, method='uniform')\n",
    "    hist, _ = np.histogram(lbp.ravel(), bins=np.arange(0, 8 + 3), range=(0, 8 + 2))\n",
    "    hist = hist.astype(\"float\") / (hist.sum() + 1e-7)\n",
    "    hist_pca = pca.transform([hist])\n",
    "    prediction = mlp_model.predict(hist_pca)\n",
    "    predicted_label = np.argmax(prediction)\n",
    "    identity = le.inverse_transform([predicted_label])[0]\n",
    "\n",
    "    plt.imshow(img, cmap='gray')\n",
    "    plt.title(f\"Predicted ID: {identity}\")\n",
    "    plt.axis('off')\n",
    "    plt.show()\n",
    "\n",
    "    return identity\n",
    "\n",
    "# Example usage\n",
    "predict_face(\"/content/drive/MyDrive/Datasets/originalimages/2-08.jpg\")\n"
   ]
  }
 ],
 "metadata": {
  "language_info": {
   "name": "python"
  }
 },
 "nbformat": 4,
 "nbformat_minor": 5
}
